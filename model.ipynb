{
 "cells": [
  {
   "cell_type": "markdown",
   "metadata": {},
   "source": [
    "# MNIST DATASET"
   ]
  },
  {
   "cell_type": "markdown",
   "metadata": {},
   "source": [
    "## Seeding the model\n",
    "\n",
    "From talking with our lecturer I found that it was best to seed the random weight generator to get reproducible results. As TensorFlow will automatically assign random weights on each run based on probibility. To achieve this I found documentation on the Keras website below, which I have adapted.\n",
    "\n",
    "https://keras.io/getting-started/faq/#how-can-i-obtain-reproducible-results-using-keras-during-development"
   ]
  },
  {
   "cell_type": "code",
   "execution_count": 1,
   "metadata": {},
   "outputs": [
    {
     "name": "stderr",
     "output_type": "stream",
     "text": [
      "Using TensorFlow backend.\n"
     ]
    }
   ],
   "source": [
    "import numpy as np\n",
    "import tensorflow as tf\n",
    "import random as rn\n",
    "from keras import backend as K"
   ]
  },
  {
   "cell_type": "markdown",
   "metadata": {},
   "source": [
    "The below is necessary for starting Numpy and core Python generated random numbers in a well-defined initial state."
   ]
  },
  {
   "cell_type": "code",
   "execution_count": 2,
   "metadata": {},
   "outputs": [],
   "source": [
    "np.random.seed(42)\n",
    "rn.seed(12345)"
   ]
  },
  {
   "cell_type": "markdown",
   "metadata": {},
   "source": [
    "Force TensorFlow to use single thread. Multiple threads are a potential source of non-reproducible results.\n",
    "For further details, see: https://stackoverflow.com/questions/42022950/"
   ]
  },
  {
   "cell_type": "code",
   "execution_count": 3,
   "metadata": {},
   "outputs": [],
   "source": [
    "session_conf = tf.ConfigProto(intra_op_parallelism_threads=1, inter_op_parallelism_threads=1)"
   ]
  },
  {
   "cell_type": "markdown",
   "metadata": {},
   "source": [
    "The below tf.set_random_seed() will make random number generation in the TensorFlow backend have a well-defined initial state. For further details, see: https://www.tensorflow.org/api_docs/python/tf/set_random_seed"
   ]
  },
  {
   "cell_type": "code",
   "execution_count": 4,
   "metadata": {},
   "outputs": [],
   "source": [
    "tf.set_random_seed(1234)\n",
    "\n",
    "sess = tf.Session(graph=tf.get_default_graph(), config=session_conf)\n",
    "K.set_session(sess)"
   ]
  },
  {
   "cell_type": "markdown",
   "metadata": {},
   "source": [
    "## Train the model"
   ]
  },
  {
   "cell_type": "code",
   "execution_count": 5,
   "metadata": {},
   "outputs": [],
   "source": [
    "# Additional Imports\n",
    "import keras as kr\n",
    "from keras.models import load_model # To save and load models.\n",
    "import sklearn.preprocessing as pre # For encoding categorical variables.\n",
    "import gzip # Extract and read gzip format.\n",
    "%matplotlib inline\n",
    "import matplotlib.pyplot as plt # Plot results graphically."
   ]
  },
  {
   "cell_type": "markdown",
   "metadata": {},
   "source": [
    "### Read in the training and test images with labels using gzip."
   ]
  },
  {
   "cell_type": "code",
   "execution_count": 6,
   "metadata": {},
   "outputs": [],
   "source": [
    "# Test Images (60000)\n",
    "with gzip.open('MNIST_Images/train-images-idx3-ubyte.gz', 'rb') as f:\n",
    "    train_imgs = f.read()\n",
    "\n",
    "with gzip.open('MNIST_Images/train-labels-idx1-ubyte.gz', 'rb') as f:\n",
    "    train_lbls = f.read()\n",
    "\n",
    "# Training Images (10000)\n",
    "with gzip.open('MNIST_Images/t10k-images-idx3-ubyte.gz', 'rb') as f:\n",
    "    test_imgs = f.read()\n",
    "\n",
    "with gzip.open('MNIST_Images/t10k-labels-idx1-ubyte.gz', 'rb') as f:\n",
    "    test_lbls = f.read()"
   ]
  },
  {
   "cell_type": "markdown",
   "metadata": {},
   "source": [
    "### Set up a neural network model, building it layer by layer sequentially."
   ]
  },
  {
   "cell_type": "code",
   "execution_count": 7,
   "metadata": {},
   "outputs": [
    {
     "name": "stdout",
     "output_type": "stream",
     "text": [
      "WARNING:tensorflow:From C:\\Users\\Matthew\\Anaconda3\\lib\\site-packages\\keras\\backend\\tensorflow_backend.py:74: The name tf.get_default_graph is deprecated. Please use tf.compat.v1.get_default_graph instead.\n",
      "\n"
     ]
    }
   ],
   "source": [
    "model = kr.models.Sequential()"
   ]
  },
  {
   "cell_type": "markdown",
   "metadata": {},
   "source": [
    "Add a hidden layer with 1000 neurons and an input layer with 784 inputs.\n",
    "* 784 is the number of bytes per image (28 x 28)\n",
    "* A dense layers means that each neuron recieves input from all the neurons in the previous layer (all connected)\n",
    "* **linear activation function** = Takes the inputs, multiplied by the weights for each neuron, and creates an output proportional to the input. \n",
    "* **relu activation function** = (Rectified Linear Unit) All positive values stay the same and all negative values are changed to zero."
   ]
  },
  {
   "cell_type": "code",
   "execution_count": 8,
   "metadata": {},
   "outputs": [
    {
     "name": "stdout",
     "output_type": "stream",
     "text": [
      "WARNING:tensorflow:From C:\\Users\\Matthew\\Anaconda3\\lib\\site-packages\\keras\\backend\\tensorflow_backend.py:517: The name tf.placeholder is deprecated. Please use tf.compat.v1.placeholder instead.\n",
      "\n",
      "WARNING:tensorflow:From C:\\Users\\Matthew\\Anaconda3\\lib\\site-packages\\keras\\backend\\tensorflow_backend.py:4138: The name tf.random_uniform is deprecated. Please use tf.random.uniform instead.\n",
      "\n"
     ]
    }
   ],
   "source": [
    "model.add(kr.layers.Dense(units=600, activation='linear', input_dim=784))\n",
    "model.add(kr.layers.Dense(units=400, activation='relu')) "
   ]
  },
  {
   "cell_type": "markdown",
   "metadata": {},
   "source": [
    "Add a 10 neuron output layer, each output will represent a possible label from 0-9.\n",
    "* softmax - normalizes all outputs so must add up to 1. So the largest weighted result will be the most probable number.\n",
    "* E.g [0.1, 0.7, 0.1, 0.01...] it will choose 0.7"
   ]
  },
  {
   "cell_type": "code",
   "execution_count": 9,
   "metadata": {},
   "outputs": [],
   "source": [
    "model.add(kr.layers.Dense(units=10, activation='softmax'))"
   ]
  },
  {
   "cell_type": "markdown",
   "metadata": {},
   "source": [
    "#### Build the graph.\n",
    "* categorical_crossentropy - loss function that is used for single label categorization. Used classification problems where only one result can be correct. E.g number is a 9\n",
    "* adam - Computationally efficient and benefits from both AdaGrad and RMSProp optimizers.\n",
    "* accuracy - Display accuracy results when training"
   ]
  },
  {
   "cell_type": "code",
   "execution_count": 10,
   "metadata": {},
   "outputs": [
    {
     "name": "stdout",
     "output_type": "stream",
     "text": [
      "WARNING:tensorflow:From C:\\Users\\Matthew\\Anaconda3\\lib\\site-packages\\keras\\optimizers.py:790: The name tf.train.Optimizer is deprecated. Please use tf.compat.v1.train.Optimizer instead.\n",
      "\n",
      "WARNING:tensorflow:From C:\\Users\\Matthew\\Anaconda3\\lib\\site-packages\\keras\\backend\\tensorflow_backend.py:3295: The name tf.log is deprecated. Please use tf.math.log instead.\n",
      "\n"
     ]
    }
   ],
   "source": [
    "model.compile(loss='categorical_crossentropy', optimizer='adam', metrics=['accuracy'])"
   ]
  },
  {
   "cell_type": "markdown",
   "metadata": {},
   "source": [
    "#### Parse image and labels into lists\n",
    "The bitwise operator ~ (tilde) is a complement operator. It takes one bit operand and returns its complement. If the operand is 1, it returns 0, and if it is 0, it returns 1"
   ]
  },
  {
   "cell_type": "code",
   "execution_count": 11,
   "metadata": {},
   "outputs": [],
   "source": [
    "train_imgs = ~np.array(list(train_imgs[16:])).reshape(60000, 28, 28).astype(np.uint8) / 255.0\n",
    "train_lbls =  np.array(list(train_lbls[ 8:])).astype(np.uint8)\n",
    "inputs = train_imgs.reshape(60000, 784)"
   ]
  },
  {
   "cell_type": "markdown",
   "metadata": {},
   "source": [
    "#### Encode labels into binary using sklearn, so they can be compared easily.\n",
    "E.g 0 = [1, 0, 0, 0, 0, 0, 0, 0, 0, 0], 1 = [0, 1, 0, 0, 0, 0, 0, 0, 0, 0] etc."
   ]
  },
  {
   "cell_type": "code",
   "execution_count": 12,
   "metadata": {},
   "outputs": [],
   "source": [
    "encoder = pre.LabelBinarizer()\n",
    "encoder.fit(train_lbls)\n",
    "outputs = encoder.transform(train_lbls)"
   ]
  },
  {
   "cell_type": "code",
   "execution_count": 13,
   "metadata": {},
   "outputs": [
    {
     "data": {
      "text/plain": [
       "(5, array([0, 0, 0, 0, 0, 1, 0, 0, 0, 0]))"
      ]
     },
     "execution_count": 13,
     "metadata": {},
     "output_type": "execute_result"
    }
   ],
   "source": [
    "train_lbls[0], outputs[0]"
   ]
  },
  {
   "cell_type": "markdown",
   "metadata": {},
   "source": [
    "Print out binary value for each number 0-9. "
   ]
  },
  {
   "cell_type": "code",
   "execution_count": 14,
   "metadata": {},
   "outputs": [
    {
     "name": "stdout",
     "output_type": "stream",
     "text": [
      "0 [[1 0 0 0 0 0 0 0 0 0]]\n",
      "1 [[0 1 0 0 0 0 0 0 0 0]]\n",
      "2 [[0 0 1 0 0 0 0 0 0 0]]\n",
      "3 [[0 0 0 1 0 0 0 0 0 0]]\n",
      "4 [[0 0 0 0 1 0 0 0 0 0]]\n",
      "5 [[0 0 0 0 0 1 0 0 0 0]]\n",
      "6 [[0 0 0 0 0 0 1 0 0 0]]\n",
      "7 [[0 0 0 0 0 0 0 1 0 0]]\n",
      "8 [[0 0 0 0 0 0 0 0 1 0]]\n",
      "9 [[0 0 0 0 0 0 0 0 0 1]]\n"
     ]
    }
   ],
   "source": [
    "for i in range(10):\n",
    "    print(i, encoder.transform([i]))"
   ]
  },
  {
   "cell_type": "markdown",
   "metadata": {},
   "source": [
    "https://keras.io/getting-started/faq/#how-can-i-save-a-keras-model\n",
    "Rather than retraining the model again and again I wanted to be able to save and load it, so I researched and found a way to achieve this.\n"
   ]
  },
  {
   "cell_type": "code",
   "execution_count": 15,
   "metadata": {},
   "outputs": [
    {
     "name": "stdout",
     "output_type": "stream",
     "text": [
      "WARNING:tensorflow:From C:\\Users\\Matthew\\Anaconda3\\lib\\site-packages\\tensorflow\\python\\ops\\math_grad.py:1250: add_dispatch_support.<locals>.wrapper (from tensorflow.python.ops.array_ops) is deprecated and will be removed in a future version.\n",
      "Instructions for updating:\n",
      "Use tf.where in 2.0, which has the same broadcast rule as np.where\n",
      "WARNING:tensorflow:From C:\\Users\\Matthew\\Anaconda3\\lib\\site-packages\\keras\\backend\\tensorflow_backend.py:986: The name tf.assign_add is deprecated. Please use tf.compat.v1.assign_add instead.\n",
      "\n",
      "Epoch 1/8\n",
      "60000/60000 [==============================] - 8s 125us/step - loss: 0.5157 - acc: 0.8445\n",
      "Epoch 2/8\n",
      "60000/60000 [==============================] - 8s 129us/step - loss: 0.2313 - acc: 0.9285\n",
      "Epoch 3/8\n",
      "60000/60000 [==============================] - 7s 114us/step - loss: 0.1765 - acc: 0.9451\n",
      "Epoch 4/8\n",
      "60000/60000 [==============================] - 6s 104us/step - loss: 0.1589 - acc: 0.9503\n",
      "Epoch 5/8\n",
      "60000/60000 [==============================] - 7s 113us/step - loss: 0.1354 - acc: 0.9579\n",
      "Epoch 6/8\n",
      "60000/60000 [==============================] - 8s 135us/step - loss: 0.1269 - acc: 0.9599\n",
      "Epoch 7/8\n",
      "60000/60000 [==============================] - 7s 121us/step - loss: 0.1206 - acc: 0.9629\n",
      "Epoch 8/8\n",
      "60000/60000 [==============================] - 7s 112us/step - loss: 0.1219 - acc: 0.9630\n"
     ]
    }
   ],
   "source": [
    "try:\n",
    "    model = load_model('test_model.h5')\n",
    "except:\n",
    "    # If model isn't found train model using 8 epochs\n",
    "    # From testing it seems to peak at accuracy at around 8 epochs\n",
    "    # One Epoch is when an entire dataset is passed forward and backward through the neural network only once.\n",
    "    model_log = model.fit(inputs, outputs, epochs=8, batch_size=100)\n",
    "    model.save('test_model.h5')"
   ]
  },
  {
   "cell_type": "markdown",
   "metadata": {},
   "source": [
    "Display accuracy and loss results on a graph\n",
    "\n",
    "Code adapted from: https://towardsdatascience.com/a-simple-2d-cnn-for-mnist-digit-recognition-a998dbc1e79a"
   ]
  },
  {
   "cell_type": "code",
   "execution_count": 17,
   "metadata": {},
   "outputs": [
    {
     "data": {
      "image/png": "[encoded data removed]",
      "text/plain": [
       "<Figure size 432x288 with 2 Axes>"
      ]
     },
     "execution_count": 17,
     "metadata": {},
     "output_type": "execute_result"
    },
    {
     "data": {
      "image/png": "[encoded data removed]",
      "text/plain": [
       "<Figure size 432x288 with 2 Axes>"
      ]
     },
     "metadata": {
      "needs_background": "light"
     },
     "output_type": "display_data"
    }
   ],
   "source": [
    "import os\n",
    "# plotting the metrics\n",
    "fig = plt.figure()\n",
    "plt.subplot(2,1,1)\n",
    "plt.plot(model_log.history['acc'])\n",
    "plt.title('model accuracy')\n",
    "plt.ylabel('accuracy')\n",
    "plt.xlabel('epoch')\n",
    "plt.legend(['train', 'test'], loc='lower right')\n",
    "plt.subplot(2,1,2)\n",
    "plt.plot(model_log.history['loss'])\n",
    "plt.title('model loss')\n",
    "plt.ylabel('loss')\n",
    "plt.xlabel('epoch')\n",
    "plt.legend(['train', 'test'], loc='upper right')\n",
    "plt.tight_layout()\n",
    "fig"
   ]
  },
  {
   "cell_type": "markdown",
   "metadata": {},
   "source": [
    "# Test the model."
   ]
  },
  {
   "cell_type": "markdown",
   "metadata": {},
   "source": [
    "Parse images and labels into lists."
   ]
  },
  {
   "cell_type": "code",
   "execution_count": 18,
   "metadata": {},
   "outputs": [],
   "source": [
    "test_imgs = ~np.array(list(test_imgs[16:])).reshape(10000, 784).astype(np.uint8) / 255.0\n",
    "test_lbls =  np.array(list(test_lbls[ 8:])).astype(np.uint8)"
   ]
  },
  {
   "cell_type": "markdown",
   "metadata": {},
   "source": [
    "Calculate the sum of correct results out of all 10000 images using the labels\n",
    "* Last test returned a result of 9706. "
   ]
  },
  {
   "cell_type": "code",
   "execution_count": 19,
   "metadata": {},
   "outputs": [
    {
     "name": "stdout",
     "output_type": "stream",
     "text": [
      "\n",
      "Sum of correct results: 9685\n"
     ]
    }
   ],
   "source": [
    "print(\"\\nSum of correct results:\", (encoder.inverse_transform(model.predict(test_imgs)) == test_lbls).sum())"
   ]
  },
  {
   "cell_type": "markdown",
   "metadata": {},
   "source": [
    "#### Predict image using model\n",
    "Last test returned a 6 which is correct."
   ]
  },
  {
   "cell_type": "code",
   "execution_count": 20,
   "metadata": {},
   "outputs": [
    {
     "name": "stdout",
     "output_type": "stream",
     "text": [
      "\n",
      "Test image: [[1.2899625e-06 2.1695709e-12 1.4391152e-07 8.9484749e-09 1.2113215e-09\n",
      "  1.2421596e-04 9.9985826e-01 7.8540167e-11 1.6046946e-05 4.2257585e-13]]\n"
     ]
    }
   ],
   "source": [
    "print(\"\\nTest image:\", model.predict(test_imgs[11:12]))"
   ]
  },
  {
   "cell_type": "markdown",
   "metadata": {},
   "source": [
    "From testing the model.predict it would return an array of possibilities. The highest value would be the right answer.\n",
    "To get the largest value I looked up a numpy methods and found argmax() to achieve this.\n",
    "https://kite.com/python/examples/5750/numpy-find-the-index-of-the-largest-element-of-an-array"
   ]
  },
  {
   "cell_type": "code",
   "execution_count": 21,
   "metadata": {},
   "outputs": [
    {
     "name": "stdout",
     "output_type": "stream",
     "text": [
      "\n",
      "Results: 6\n"
     ]
    }
   ],
   "source": [
    "print(\"\\nResults:\", model.predict(test_imgs[11:12]).argmax())"
   ]
  },
  {
   "cell_type": "markdown",
   "metadata": {},
   "source": [
    "Display correct image which should be a 6."
   ]
  },
  {
   "cell_type": "code",
   "execution_count": 22,
   "metadata": {},
   "outputs": [
    {
     "data": {
      "image/png": "[encoded data removed]",
      "text/plain": [
       "<Figure size 432x288 with 1 Axes>"
      ]
     },
     "metadata": {
      "needs_background": "light"
     },
     "output_type": "display_data"
    }
   ],
   "source": [
    "plt.imshow(test_imgs[11].reshape(28, 28), cmap='gray')\n",
    "plt.show()"
   ]
  }
 ],
 "metadata": {
  "kernelspec": {
   "display_name": "Python 3",
   "language": "python",
   "name": "python3"
  },
  "language_info": {
   "codemirror_mode": {
    "name": "ipython",
    "version": 3
   },
   "file_extension": ".py",
   "mimetype": "text/x-python",
   "name": "python",
   "nbconvert_exporter": "python",
   "pygments_lexer": "ipython3",
   "version": "3.7.4"
  }
 },
 "nbformat": 4,
 "nbformat_minor": 4
}
