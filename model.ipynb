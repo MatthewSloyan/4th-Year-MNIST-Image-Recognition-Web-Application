{
 "cells": [
  {
   "cell_type": "markdown",
   "metadata": {},
   "source": [
    "# MNIST DATASET\n",
    "#### What is the MNIST dataset?\n",
    "\n",
    "The MNIST dataset or Modified National Institute of Standards and Technology dataset is a large collection of 60000 training images, and 10000 testing images. Half of the collection comprises of handwritten digits from the original NIST's training dataset and the other half is from its testing dataset. The NIST training dataset was taken from the American Census Bureau employees and the testing set was taken from American high school students, so the discrepancies between the two handwriting styles and quality was quite different. This is why the MNIST dataset is a mix of the two. Also the images were normalized, and centered to fit to a 28x28 pixel, which was also anti-aliased."
   ]
  },
  {
   "cell_type": "markdown",
   "metadata": {},
   "source": [
    "## Imports\n",
    "For Keras, loading the dataset, saving the model, preprocessing and displaying."
   ]
  },
  {
   "cell_type": "code",
   "execution_count": 1,
   "metadata": {},
   "outputs": [
    {
     "name": "stderr",
     "output_type": "stream",
     "text": [
      "Using TensorFlow backend.\n"
     ]
    }
   ],
   "source": [
    "# Seeding the model\n",
    "import numpy as np\n",
    "import tensorflow as tf\n",
    "import random as rn\n",
    "from keras import backend as K\n",
    "import os\n",
    "\n",
    "# Training and reading the dataset\n",
    "import keras as kr\n",
    "from keras.models import load_model # To save and load models.\n",
    "from keras.datasets import mnist # Import the MNIST dataset directly from Keras, which is faster.\n",
    "import sklearn.preprocessing as pre # For encoding categorical variables.\n",
    "%matplotlib inline\n",
    "import matplotlib.pyplot as plt # Plot results graphically.\n",
    "import gzip \n",
    "import pandas as pd"
   ]
  },
  {
   "cell_type": "markdown",
   "metadata": {},
   "source": [
    "## Testing the MNIST dataset\n",
    "To learn more about how it works."
   ]
  },
  {
   "cell_type": "markdown",
   "metadata": {},
   "source": [
    "### Read in the training and test images from gzip file (Slow)\n",
    "\n",
    "* From testing this is quite slow compared to reading directly from keras.datasets which is used below, but it good for testing and learning how the dataset is structured."
   ]
  },
  {
   "cell_type": "code",
   "execution_count": 2,
   "metadata": {},
   "outputs": [],
   "source": [
    "# Adapted from: https://docs.python.org/3/library/gzip.html\n",
    "# Open the MNIST dataset of 10000 testing images.\n",
    "with gzip.open('MNIST_Images/t10k-images-idx3-ubyte.gz', 'rb') as f:\n",
    "    test_imgs = f.read()\n",
    "\n",
    "# Open the label dataset like before.\n",
    "with gzip.open('MNIST_Images/t10k-labels-idx1-ubyte.gz', 'rb') as f:\n",
    "    test_lbls = f.read()"
   ]
  },
  {
   "cell_type": "code",
   "execution_count": 3,
   "metadata": {},
   "outputs": [
    {
     "name": "stdout",
     "output_type": "stream",
     "text": [
      "File Type: <class 'bytes'>\n",
      "Bytes: b'\\x00\\x00\\x08\\x03'\n",
      "Big-endian: 2051\n",
      "Little-endian: 50855936\n"
     ]
    }
   ],
   "source": [
    "# Print the file type of the dataset - bytes\n",
    "print(\"File Type:\", type(test_imgs))\n",
    "\n",
    "# Print out the first four bytes.\n",
    "# b'\\x00\\x00\\x08\\x03' is the output which correlates with the MNIST website results if reading from a gzip.\n",
    "print(\"Bytes:\", test_imgs[0:4])\n",
    "\n",
    "# Adapted from: https://stackoverflow.com/questions/51220161/how-to-convert-from-bytes-to-int\n",
    "# Convert bytes to a 32 bit integer using big-endian and little-endian.\n",
    "print(\"Big-endian:\", int.from_bytes(test_imgs[0:4], byteorder='big')) #2051\n",
    "print(\"Little-endian:\", int.from_bytes(test_imgs[0:4], byteorder='little')) #50855936"
   ]
  },
  {
   "cell_type": "code",
   "execution_count": 4,
   "metadata": {},
   "outputs": [
    {
     "name": "stdout",
     "output_type": "stream",
     "text": [
      "Image label: 0\n"
     ]
    },
    {
     "data": {
      "image/png": "[encoded data removed]",
      "text/plain": [
       "<Figure size 432x288 with 1 Axes>"
      ]
     },
     "metadata": {
      "needs_background": "light"
     },
     "output_type": "display_data"
    }
   ],
   "source": [
    "# Display a single image from the dataset\n",
    "image = np.array(list(test_imgs[800:1584])).reshape(28,28).astype(np.uint8)\n",
    "\n",
    "# Get the label for a specific image (Expected result = 4)\n",
    "print(\"Image label:\", int.from_bytes(test_lbls[0:1], byteorder=\"big\"))\n",
    "\n",
    "# Display plot of image\n",
    "plt.imshow(image, cmap='gray')\n",
    "plt.show()"
   ]
  },
  {
   "cell_type": "markdown",
   "metadata": {},
   "source": [
    "### Read in the training and test images from Keras directly.\n",
    "\n",
    "* From testing this is considerably faster than reading from the gzip files in memory.\n",
    "\n",
    "* However when reading from the Keras directly there no header information in the first 16 bytes compared to when reading from the gzip, so it's hard to tell if you're reading it correctly."
   ]
  },
  {
   "cell_type": "code",
   "execution_count": 5,
   "metadata": {},
   "outputs": [],
   "source": [
    "(train_imgs, train_lbls), (test_imgs, test_lbls) = mnist.load_data()"
   ]
  },
  {
   "cell_type": "markdown",
   "metadata": {},
   "source": [
    "## Seeding the model\n",
    "\n",
    "From talking with our lecturer I found that it was best to seed the random weight generator to get reproducible results. As TensorFlow will automatically assign random weights on each run based on probibility. To achieve this I found documentation on the Keras website below, which I have adapted.\n",
    "\n",
    "https://keras.io/getting-started/faq/#how-can-i-obtain-reproducible-results-using-keras-during-development"
   ]
  },
  {
   "cell_type": "markdown",
   "metadata": {},
   "source": [
    "The below is necessary for starting Numpy and core Python generated random numbers in a well-defined initial state."
   ]
  },
  {
   "cell_type": "code",
   "execution_count": 6,
   "metadata": {},
   "outputs": [],
   "source": [
    "np.random.seed(42)\n",
    "rn.seed(12345)"
   ]
  },
  {
   "cell_type": "markdown",
   "metadata": {},
   "source": [
    "Force TensorFlow to use single thread. Multiple threads are a potential source of non-reproducible results.\n",
    "For further details, see: https://stackoverflow.com/questions/42022950/"
   ]
  },
  {
   "cell_type": "code",
   "execution_count": 7,
   "metadata": {},
   "outputs": [],
   "source": [
    "session_conf = tf.ConfigProto(intra_op_parallelism_threads=1, inter_op_parallelism_threads=1)"
   ]
  },
  {
   "cell_type": "markdown",
   "metadata": {},
   "source": [
    "The below tf.set_random_seed() will make random number generation in the TensorFlow backend have a well-defined initial state. For further details, see: https://www.tensorflow.org/api_docs/python/tf/set_random_seed"
   ]
  },
  {
   "cell_type": "code",
   "execution_count": 8,
   "metadata": {},
   "outputs": [],
   "source": [
    "tf.set_random_seed(1234)\n",
    "\n",
    "sess = tf.Session(graph=tf.get_default_graph(), config=session_conf)\n",
    "K.set_session(sess)"
   ]
  },
  {
   "cell_type": "markdown",
   "metadata": {},
   "source": [
    "## Train the model\n",
    "\n",
    "#### Set up a neural network model, building it layer by layer sequentially."
   ]
  },
  {
   "cell_type": "code",
   "execution_count": 9,
   "metadata": {},
   "outputs": [
    {
     "name": "stdout",
     "output_type": "stream",
     "text": [
      "WARNING:tensorflow:From C:\\Users\\Matthew\\Anaconda3\\lib\\site-packages\\keras\\backend\\tensorflow_backend.py:74: The name tf.get_default_graph is deprecated. Please use tf.compat.v1.get_default_graph instead.\n",
      "\n"
     ]
    }
   ],
   "source": [
    "model = kr.models.Sequential()"
   ]
  },
  {
   "cell_type": "markdown",
   "metadata": {},
   "source": [
    "#### Add Layers (Input & Hidden)\n",
    "Add a hidden layer with 1000 neurons and an input layer with 784 inputs.\n",
    "* 784 is the number of bytes per image (28 x 28)\n",
    "* A dense layers means that each neuron recieves input from all the neurons in the previous layer (all connected)\n",
    "* **linear activation function** = Takes the inputs, multiplied by the weights for each neuron, and creates an output proportional to the input. \n",
    "* **relu activation function** = (Rectified Linear Unit) All positive values stay the same and all negative values are changed to zero."
   ]
  },
  {
   "cell_type": "code",
   "execution_count": 10,
   "metadata": {},
   "outputs": [
    {
     "name": "stdout",
     "output_type": "stream",
     "text": [
      "WARNING:tensorflow:From C:\\Users\\Matthew\\Anaconda3\\lib\\site-packages\\keras\\backend\\tensorflow_backend.py:517: The name tf.placeholder is deprecated. Please use tf.compat.v1.placeholder instead.\n",
      "\n",
      "WARNING:tensorflow:From C:\\Users\\Matthew\\Anaconda3\\lib\\site-packages\\keras\\backend\\tensorflow_backend.py:4138: The name tf.random_uniform is deprecated. Please use tf.random.uniform instead.\n",
      "\n"
     ]
    }
   ],
   "source": [
    "model.add(kr.layers.Dense(units=600, activation='linear', input_dim=784))\n",
    "model.add(kr.layers.Dense(units=400, activation='relu')) "
   ]
  },
  {
   "cell_type": "markdown",
   "metadata": {},
   "source": [
    "#### Add Layers (Output)\n",
    "\n",
    "Add a 10 neuron output layer, each output will represent a possible label from 0-9.\n",
    "* softmax - normalizes all outputs so must add up to 1. So the largest weighted result will be the most probable number.\n",
    "* E.g [0.1, 0.7, 0.1, 0.01...] it will choose 0.7"
   ]
  },
  {
   "cell_type": "code",
   "execution_count": 11,
   "metadata": {},
   "outputs": [],
   "source": [
    "model.add(kr.layers.Dense(units=10, activation='softmax'))"
   ]
  },
  {
   "cell_type": "markdown",
   "metadata": {},
   "source": [
    "#### Build the graph.\n",
    "* **categorical_crossentropy** - loss function that is used for single label categorization. Used classification problems where only one result can be correct. E.g number is a 9\n",
    "* **adam** - Computationally efficient and benefits from both AdaGrad and RMSProp optimizers.\n",
    "* **accuracy** - Display accuracy results when training"
   ]
  },
  {
   "cell_type": "code",
   "execution_count": 12,
   "metadata": {},
   "outputs": [
    {
     "name": "stdout",
     "output_type": "stream",
     "text": [
      "WARNING:tensorflow:From C:\\Users\\Matthew\\Anaconda3\\lib\\site-packages\\keras\\optimizers.py:790: The name tf.train.Optimizer is deprecated. Please use tf.compat.v1.train.Optimizer instead.\n",
      "\n",
      "WARNING:tensorflow:From C:\\Users\\Matthew\\Anaconda3\\lib\\site-packages\\keras\\backend\\tensorflow_backend.py:3295: The name tf.log is deprecated. Please use tf.math.log instead.\n",
      "\n"
     ]
    }
   ],
   "source": [
    "model.compile(loss='categorical_crossentropy', optimizer='adam', metrics=['accuracy'])"
   ]
  },
  {
   "cell_type": "markdown",
   "metadata": {},
   "source": [
    "#### Parse image and labels into lists\n",
    "The bitwise operator (~ tilde) can be used to invert the image. It is a complement operator. It takes one bit operand and returns its complement. If the operand is 1, it returns 0, and if it is 0, it returns 1.\n",
    "\n",
    "However I have left the image as is I.e black background with white digets, as from testing it makes prediction more accurate and the accuracy is slighly higher.\n",
    "\n",
    "Reshape each of the 60000 images into an array list of 28 x 28 bytes (pixels).\n",
    "Also reshape labels."
   ]
  },
  {
   "cell_type": "code",
   "execution_count": 13,
   "metadata": {},
   "outputs": [],
   "source": [
    "train_imgs = np.array(list(train_imgs[:])).reshape(60000, 28, 28).astype(np.uint8) / 255.0\n",
    "train_lbls = np.array(list(train_lbls[:])).astype(np.uint8)\n",
    "inputs = train_imgs.reshape(60000, 784)"
   ]
  },
  {
   "cell_type": "markdown",
   "metadata": {},
   "source": [
    "#### Encode labels into binary using sklearn, so they can be compared easily.\n",
    "E.g 0 = [1, 0, 0, 0, 0, 0, 0, 0, 0, 0], 1 = [0, 1, 0, 0, 0, 0, 0, 0, 0, 0] etc."
   ]
  },
  {
   "cell_type": "code",
   "execution_count": 14,
   "metadata": {},
   "outputs": [],
   "source": [
    "encoder = pre.LabelBinarizer()\n",
    "encoder.fit(train_lbls)\n",
    "outputs = encoder.transform(train_lbls)"
   ]
  },
  {
   "cell_type": "code",
   "execution_count": 15,
   "metadata": {},
   "outputs": [
    {
     "data": {
      "text/plain": [
       "(5, array([0, 0, 0, 0, 0, 1, 0, 0, 0, 0]))"
      ]
     },
     "execution_count": 15,
     "metadata": {},
     "output_type": "execute_result"
    }
   ],
   "source": [
    "train_lbls[0], outputs[0]"
   ]
  },
  {
   "cell_type": "markdown",
   "metadata": {},
   "source": [
    "#### Print out binary value for each number 0-9. \n",
    "As you can see each value from 0-9, with the 1 being the correct number index."
   ]
  },
  {
   "cell_type": "code",
   "execution_count": 16,
   "metadata": {},
   "outputs": [
    {
     "name": "stdout",
     "output_type": "stream",
     "text": [
      "0 [[1 0 0 0 0 0 0 0 0 0]]\n",
      "1 [[0 1 0 0 0 0 0 0 0 0]]\n",
      "2 [[0 0 1 0 0 0 0 0 0 0]]\n",
      "3 [[0 0 0 1 0 0 0 0 0 0]]\n",
      "4 [[0 0 0 0 1 0 0 0 0 0]]\n",
      "5 [[0 0 0 0 0 1 0 0 0 0]]\n",
      "6 [[0 0 0 0 0 0 1 0 0 0]]\n",
      "7 [[0 0 0 0 0 0 0 1 0 0]]\n",
      "8 [[0 0 0 0 0 0 0 0 1 0]]\n",
      "9 [[0 0 0 0 0 0 0 0 0 1]]\n"
     ]
    }
   ],
   "source": [
    "for i in range(10):\n",
    "    print(i, encoder.transform([i]))"
   ]
  },
  {
   "cell_type": "markdown",
   "metadata": {},
   "source": [
    "### Run and Save the Model\n",
    "Rather than retraining the model again and again I wanted to be able to save and load it, so I researched and found a way to achieve this, by saving a binary .h5 model file. This could then be loaded into the web application for quick prediction.\n",
    "\n",
    "Code adapted from: https://keras.io/getting-started/faq/#how-can-i-save-a-keras-model\n",
    "\n",
    "One Epoch is when an entire dataset is passed forward and backward through the neural network only once.\n",
    "I have decided to train the model using 8 epochs, which from testing it seems to peak at. This can be seen in the graph below."
   ]
  },
  {
   "cell_type": "code",
   "execution_count": 17,
   "metadata": {},
   "outputs": [
    {
     "name": "stdout",
     "output_type": "stream",
     "text": [
      "WARNING:tensorflow:From C:\\Users\\Matthew\\Anaconda3\\lib\\site-packages\\tensorflow\\python\\ops\\math_grad.py:1250: add_dispatch_support.<locals>.wrapper (from tensorflow.python.ops.array_ops) is deprecated and will be removed in a future version.\n",
      "Instructions for updating:\n",
      "Use tf.where in 2.0, which has the same broadcast rule as np.where\n",
      "WARNING:tensorflow:From C:\\Users\\Matthew\\Anaconda3\\lib\\site-packages\\keras\\backend\\tensorflow_backend.py:986: The name tf.assign_add is deprecated. Please use tf.compat.v1.assign_add instead.\n",
      "\n",
      "Epoch 1/8\n",
      "60000/60000 [==============================] - 10s 166us/step - loss: 0.2236 - acc: 0.9332\n",
      "Epoch 2/8\n",
      "60000/60000 [==============================] - 9s 148us/step - loss: 0.0960 - acc: 0.9701\n",
      "Epoch 3/8\n",
      "60000/60000 [==============================] - 9s 157us/step - loss: 0.0706 - acc: 0.9777\n",
      "Epoch 4/8\n",
      "60000/60000 [==============================] - 9s 154us/step - loss: 0.0599 - acc: 0.9808\n",
      "Epoch 5/8\n",
      "60000/60000 [==============================] - 9s 149us/step - loss: 0.0542 - acc: 0.9825\n",
      "Epoch 6/8\n",
      "60000/60000 [==============================] - 9s 154us/step - loss: 0.0420 - acc: 0.9860\n",
      "Epoch 7/8\n",
      "60000/60000 [==============================] - 11s 188us/step - loss: 0.0349 - acc: 0.9887\n",
      "Epoch 8/8\n",
      "60000/60000 [==============================] - 17s 287us/step - loss: 0.0405 - acc: 0.9866\n"
     ]
    }
   ],
   "source": [
    "model_log = model.fit(inputs, outputs, epochs=8, batch_size=128)\n",
    "model.save('test_model.h5')"
   ]
  },
  {
   "cell_type": "markdown",
   "metadata": {},
   "source": [
    "#### Display accuracy and loss results on a graph\n",
    "Code adapted from: https://towardsdatascience.com/a-simple-2d-cnn-for-mnist-digit-recognition-a998dbc1e79a"
   ]
  },
  {
   "cell_type": "code",
   "execution_count": 18,
   "metadata": {},
   "outputs": [
    {
     "data": {
      "image/png": "[encoded data removed]",
      "text/plain": [
       "<Figure size 432x288 with 2 Axes>"
      ]
     },
     "metadata": {
      "needs_background": "light"
     },
     "output_type": "display_data"
    }
   ],
   "source": [
    "# plotting the metrics\n",
    "fig = plt.figure()\n",
    "plt.subplot(2,1,1)\n",
    "plt.plot(model_log.history['acc'])\n",
    "plt.title('model accuracy')\n",
    "plt.ylabel('accuracy')\n",
    "plt.xlabel('epoch')\n",
    "plt.legend(['train', 'test'], loc='lower right')\n",
    "plt.subplot(2,1,2)\n",
    "plt.plot(model_log.history['loss'])\n",
    "plt.title('model loss')\n",
    "plt.ylabel('loss')\n",
    "plt.xlabel('epoch')\n",
    "plt.legend(['train', 'test'], loc='upper right')\n",
    "plt.tight_layout()"
   ]
  },
  {
   "cell_type": "markdown",
   "metadata": {},
   "source": [
    "## Testing the trained model\n",
    "Parse images and labels into lists, and reshape like before. This time using the 10000 training images and labels."
   ]
  },
  {
   "cell_type": "code",
   "execution_count": 19,
   "metadata": {},
   "outputs": [],
   "source": [
    "test_imgs = np.array(list(test_imgs[:])).reshape(10000, 784).astype(np.uint8) / 255.0\n",
    "test_lbls = np.array(list(test_lbls[:])).astype(np.uint8)"
   ]
  },
  {
   "cell_type": "markdown",
   "metadata": {},
   "source": [
    "#### Get the sum of correct values \n",
    "Calculate the sum of correct results out of all 10000 images using the labels\n",
    "* Last test returned a result of 9771. "
   ]
  },
  {
   "cell_type": "code",
   "execution_count": 20,
   "metadata": {},
   "outputs": [
    {
     "name": "stdout",
     "output_type": "stream",
     "text": [
      "\n",
      "Sum of correct results: 9780\n"
     ]
    }
   ],
   "source": [
    "print(\"\\nSum of correct results:\", (encoder.inverse_transform(model.predict(test_imgs)) == test_lbls).sum())"
   ]
  },
  {
   "cell_type": "markdown",
   "metadata": {},
   "source": [
    "#### Predict image using model\n",
    "Pick an image from the test images, and call predict. ([11:12], is the number 6)"
   ]
  },
  {
   "cell_type": "code",
   "execution_count": 21,
   "metadata": {},
   "outputs": [
    {
     "name": "stdout",
     "output_type": "stream",
     "text": [
      "\n",
      "Test image: [[2.19036838e-06 1.05346963e-16 4.88043439e-10 1.38838252e-09\n",
      "  4.12075818e-10 9.63999156e-08 9.99767244e-01 1.04576320e-10\n",
      "  2.30493009e-04 1.20286160e-12]]\n"
     ]
    }
   ],
   "source": [
    "print(\"\\nTest image:\", model.predict(test_imgs[11:12]))"
   ]
  },
  {
   "cell_type": "markdown",
   "metadata": {},
   "source": [
    "From testing the model.predict it would return an array of possibilities. The highest value would be the right answer.\n",
    "To get the largest value I looked how to get the index of the highest value in a numpy array and found argmax() which does this nicely.\n",
    "\n",
    "Code adapted from: https://kite.com/python/examples/5750/numpy-find-the-index-of-the-largest-element-of-an-array"
   ]
  },
  {
   "cell_type": "code",
   "execution_count": 22,
   "metadata": {},
   "outputs": [
    {
     "name": "stdout",
     "output_type": "stream",
     "text": [
      "\n",
      "Results: 6\n"
     ]
    }
   ],
   "source": [
    "print(\"\\nResults:\", model.predict(test_imgs[11:12]).argmax())"
   ]
  },
  {
   "cell_type": "markdown",
   "metadata": {},
   "source": [
    "#### Display correct image \n",
    "If it's the same as the predicted above then the prediction is correct."
   ]
  },
  {
   "cell_type": "code",
   "execution_count": 23,
   "metadata": {},
   "outputs": [
    {
     "data": {
      "image/png": "[encoded data removed]",
      "text/plain": [
       "<Figure size 432x288 with 1 Axes>"
      ]
     },
     "metadata": {
      "needs_background": "light"
     },
     "output_type": "display_data"
    }
   ],
   "source": [
    "plt.imshow(test_imgs[11].reshape(28, 28), cmap='gray')\n",
    "plt.show()"
   ]
  }
 ],
 "metadata": {
  "kernelspec": {
   "display_name": "Python 3",
   "language": "python",
   "name": "python3"
  },
  "language_info": {
   "codemirror_mode": {
    "name": "ipython",
    "version": 3
   },
   "file_extension": ".py",
   "mimetype": "text/x-python",
   "name": "python",
   "nbconvert_exporter": "python",
   "pygments_lexer": "ipython3",
   "version": "3.7.4"
  }
 },
 "nbformat": 4,
 "nbformat_minor": 4
}
