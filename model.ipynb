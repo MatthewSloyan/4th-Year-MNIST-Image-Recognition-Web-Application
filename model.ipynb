{
 "cells": [
  {
   "cell_type": "markdown",
   "metadata": {},
   "source": [
    "# MNIST DATASET\n",
    "#### What is the MNIST dataset?\n",
    "\n",
    "The MNIST dataset or Modified National Institute of Standards and Technology dataset is a large collection of 60000 training images, and 10000 testing images. Half of the collection comprises of handwritten digits from the original NIST's training dataset and the other half is from its testing dataset. The NIST training dataset was taken from the American Census Bureau employees and the testing set was taken from American high school students, so the discrepancies between the two handwriting styles and quality was quite different. This is why the MNIST dataset is a mix of the two. Also the images were normalized, and centered to fit to a 28x28 pixel, which was also anti-aliased."
   ]
  },
  {
   "cell_type": "markdown",
   "metadata": {},
   "source": [
    "## Imports\n",
    "For Keras, loading the dataset, saving the model, preprocessing and displaying."
   ]
  },
  {
   "cell_type": "code",
   "execution_count": 1,
   "metadata": {},
   "outputs": [
    {
     "name": "stderr",
     "output_type": "stream",
     "text": [
      "Using TensorFlow backend.\n"
     ]
    }
   ],
   "source": [
    "# Seeding the model\n",
    "import numpy as np\n",
    "import tensorflow as tf\n",
    "import random as rn\n",
    "from keras import backend as K \n",
    "import os\n",
    "\n",
    "# Training and reading the dataset\n",
    "import keras as kr\n",
    "from keras.models import load_model # To save and load models.\n",
    "from keras.datasets import mnist # Import the MNIST dataset directly from Keras, which is faster.\n",
    "\n",
    "import sklearn.preprocessing as pre # For encoding categorical variables.\n",
    "import sklearn.decomposition as dec # For Principal component analysis (PCA) & Whitening\n",
    "\n",
    "%matplotlib inline\n",
    "import matplotlib.pyplot as plt # Plot results graphically.\n",
    "import gzip # \n",
    "import pandas as pd # For displaying data sets."
   ]
  },
  {
   "cell_type": "markdown",
   "metadata": {},
   "source": [
    "## Reading the MNIST dataset\n",
    "To learn more about how it works."
   ]
  },
  {
   "cell_type": "markdown",
   "metadata": {},
   "source": [
    "### Method 1: Read in the training and test images from gzip file (Slow)\n",
    "\n",
    "* From testing this is quite slow compared to reading directly from keras.datasets which is used below, but it good for testing and learning how the dataset is structured."
   ]
  },
  {
   "cell_type": "code",
   "execution_count": 2,
   "metadata": {},
   "outputs": [],
   "source": [
    "# Adapted from: https://docs.python.org/3/library/gzip.html\n",
    "# Open the MNIST dataset of 10000 testing images.\n",
    "with gzip.open('MNIST_Images/t10k-images-idx3-ubyte.gz', 'rb') as f:\n",
    "    test_imgs = f.read()\n",
    "\n",
    "# Open the label dataset like before.\n",
    "with gzip.open('MNIST_Images/t10k-labels-idx1-ubyte.gz', 'rb') as f:\n",
    "    test_lbls = f.read()"
   ]
  },
  {
   "cell_type": "markdown",
   "metadata": {},
   "source": [
    "#### Read in bytes from file."
   ]
  },
  {
   "cell_type": "code",
   "execution_count": 3,
   "metadata": {},
   "outputs": [
    {
     "name": "stdout",
     "output_type": "stream",
     "text": [
      "File Type: <class 'bytes'>\n",
      "Bytes: b'\\x00\\x00\\x08\\x03'\n"
     ]
    }
   ],
   "source": [
    "# Print the file type of the dataset - bytes\n",
    "print(\"File Type:\", type(test_imgs))\n",
    "\n",
    "# Print out the first four bytes.\n",
    "# b'\\x00\\x00\\x08\\x03' is the output which correlates with the MNIST website results if reading from a gzip.\n",
    "print(\"Bytes:\", test_imgs[0:4])"
   ]
  },
  {
   "cell_type": "code",
   "execution_count": 4,
   "metadata": {},
   "outputs": [
    {
     "name": "stdout",
     "output_type": "stream",
     "text": [
      "Big-endian: 2051\n",
      "Little-endian: 50855936\n"
     ]
    }
   ],
   "source": [
    "# Adapted from: https://stackoverflow.com/questions/51220161/how-to-convert-from-bytes-to-int\n",
    "# Convert bytes to a 32 bit integer using big-endian and little-endian.\n",
    "print(\"Big-endian:\", int.from_bytes(test_imgs[0:4], byteorder='big')) #2051\n",
    "print(\"Little-endian:\", int.from_bytes(test_imgs[0:4], byteorder='little')) #50855936"
   ]
  },
  {
   "cell_type": "markdown",
   "metadata": {},
   "source": [
    "#### Display single image from dataset and label."
   ]
  },
  {
   "cell_type": "code",
   "execution_count": 5,
   "metadata": {},
   "outputs": [
    {
     "name": "stdout",
     "output_type": "stream",
     "text": [
      "Image label: 0\n"
     ]
    },
    {
     "data": {
      "image/png": "[encoded data removed]",
      "text/plain": [
       "<Figure size 432x288 with 1 Axes>"
      ]
     },
     "metadata": {
      "needs_background": "light"
     },
     "output_type": "display_data"
    }
   ],
   "source": [
    "# Display a single image from the dataset\n",
    "image = np.array(list(test_imgs[800:1584])).reshape(28,28).astype(np.uint8)\n",
    "\n",
    "# Get the label for a specific image (Expected result = 4)\n",
    "print(\"Image label:\", int.from_bytes(test_lbls[1:2], byteorder=\"big\"))\n",
    "\n",
    "# Display plot of image\n",
    "plt.imshow(image, cmap='gray')\n",
    "plt.show()"
   ]
  },
  {
   "cell_type": "markdown",
   "metadata": {},
   "source": [
    "### Method 2: Read in the training and test images from Keras directly.\n",
    "\n",
    "* From testing this is considerably faster than reading from the gzip files in memory, so I have chosen this method.\n",
    "\n",
    "* However when reading from the Keras directly there no header information in the first 16 bytes compared to when reading from the gzip, so it's hard to tell if you're reading it correctly."
   ]
  },
  {
   "cell_type": "code",
   "execution_count": 6,
   "metadata": {},
   "outputs": [],
   "source": [
    "(train_imgs, train_lbls), (test_imgs, test_lbls) = mnist.load_data()"
   ]
  },
  {
   "cell_type": "markdown",
   "metadata": {},
   "source": [
    "## Seeding the model\n",
    "\n",
    "From talking with our lecturer I found that it was best to seed the random weight generator to get reproducible results. As TensorFlow will automatically assign random weights on each run based on probibility. To achieve this I found documentation on the Keras website below, which I have adapted.\n",
    "\n",
    "https://keras.io/getting-started/faq/#how-can-i-obtain-reproducible-results-using-keras-during-development"
   ]
  },
  {
   "cell_type": "markdown",
   "metadata": {},
   "source": [
    "The below is necessary for starting Numpy and core Python generated random numbers in a well-defined initial state."
   ]
  },
  {
   "cell_type": "code",
   "execution_count": 7,
   "metadata": {},
   "outputs": [],
   "source": [
    "np.random.seed(42)\n",
    "rn.seed(12345)"
   ]
  },
  {
   "cell_type": "markdown",
   "metadata": {},
   "source": [
    "Force TensorFlow to use single thread. Multiple threads are a potential source of non-reproducible results.\n",
    "For further details, see: https://stackoverflow.com/questions/42022950/"
   ]
  },
  {
   "cell_type": "code",
   "execution_count": 8,
   "metadata": {},
   "outputs": [],
   "source": [
    "session_conf = tf.ConfigProto(intra_op_parallelism_threads=1, inter_op_parallelism_threads=1)"
   ]
  },
  {
   "cell_type": "markdown",
   "metadata": {},
   "source": [
    "The below tf.set_random_seed() will make random number generation in the TensorFlow backend have a well-defined initial state. For further details, see: https://www.tensorflow.org/api_docs/python/tf/set_random_seed"
   ]
  },
  {
   "cell_type": "code",
   "execution_count": 9,
   "metadata": {},
   "outputs": [],
   "source": [
    "tf.set_random_seed(1234)\n",
    "\n",
    "sess = tf.Session(graph=tf.get_default_graph(), config=session_conf)\n",
    "K.set_session(sess)"
   ]
  },
  {
   "cell_type": "markdown",
   "metadata": {},
   "source": [
    "## Train the model\n",
    "\n",
    "#### Set up a neural network model, building it layer by layer sequentially."
   ]
  },
  {
   "cell_type": "code",
   "execution_count": 10,
   "metadata": {},
   "outputs": [
    {
     "name": "stdout",
     "output_type": "stream",
     "text": [
      "WARNING:tensorflow:From C:\\Users\\Matthew\\Anaconda3\\lib\\site-packages\\keras\\backend\\tensorflow_backend.py:74: The name tf.get_default_graph is deprecated. Please use tf.compat.v1.get_default_graph instead.\n",
      "\n"
     ]
    }
   ],
   "source": [
    "model = kr.models.Sequential()"
   ]
  },
  {
   "cell_type": "markdown",
   "metadata": {},
   "source": [
    "#### Add Layers (Input & Hidden)\n",
    "Add a hidden layer with 1000 neurons and an input layer with 784 inputs.\n",
    "* 784 is the number of bytes per image (28 x 28)\n",
    "* A dense layers means that each neuron recieves input from all the neurons in the previous layer (all connected)\n",
    "* **linear activation function** = Takes the inputs, multiplied by the weights for each neuron, and creates an output proportional to the input. \n",
    "* **relu activation function** = (Rectified Linear Unit) All positive values stay the same and all negative values are changed to zero."
   ]
  },
  {
   "cell_type": "code",
   "execution_count": 11,
   "metadata": {},
   "outputs": [
    {
     "name": "stdout",
     "output_type": "stream",
     "text": [
      "WARNING:tensorflow:From C:\\Users\\Matthew\\Anaconda3\\lib\\site-packages\\keras\\backend\\tensorflow_backend.py:517: The name tf.placeholder is deprecated. Please use tf.compat.v1.placeholder instead.\n",
      "\n",
      "WARNING:tensorflow:From C:\\Users\\Matthew\\Anaconda3\\lib\\site-packages\\keras\\backend\\tensorflow_backend.py:4138: The name tf.random_uniform is deprecated. Please use tf.random.uniform instead.\n",
      "\n"
     ]
    }
   ],
   "source": [
    "model.add(kr.layers.Dense(units=600, activation='linear', input_dim=784))\n",
    "model.add(kr.layers.Dense(units=400, activation='relu')) "
   ]
  },
  {
   "cell_type": "markdown",
   "metadata": {},
   "source": [
    "#### Add Layers (Output)\n",
    "\n",
    "Add a 10 neuron output layer, each output will represent a possible label from 0-9.\n",
    "* **softmax** - normalizes all outputs so must add up to 1. So the largest weighted result will be the most probable number.\n",
    "* E.g [0.1, 0.7, 0.1, 0.01...] it will choose 0.7"
   ]
  },
  {
   "cell_type": "code",
   "execution_count": 12,
   "metadata": {},
   "outputs": [],
   "source": [
    "model.add(kr.layers.Dense(units=10, activation='softmax'))"
   ]
  },
  {
   "cell_type": "markdown",
   "metadata": {},
   "source": [
    "#### Build the graph.\n",
    "* **categorical_crossentropy** - loss function that is used for single label categorization. Used classification problems where only one result can be correct. E.g number is a 9\n",
    "* **adam** - Computationally efficient and benefits from both AdaGrad and RMSProp optimizers.\n",
    "* **accuracy** - Display accuracy results when training"
   ]
  },
  {
   "cell_type": "code",
   "execution_count": 13,
   "metadata": {},
   "outputs": [
    {
     "name": "stdout",
     "output_type": "stream",
     "text": [
      "WARNING:tensorflow:From C:\\Users\\Matthew\\Anaconda3\\lib\\site-packages\\keras\\optimizers.py:790: The name tf.train.Optimizer is deprecated. Please use tf.compat.v1.train.Optimizer instead.\n",
      "\n",
      "WARNING:tensorflow:From C:\\Users\\Matthew\\Anaconda3\\lib\\site-packages\\keras\\backend\\tensorflow_backend.py:3295: The name tf.log is deprecated. Please use tf.math.log instead.\n",
      "\n"
     ]
    }
   ],
   "source": [
    "model.compile(loss='categorical_crossentropy', optimizer='adam', metrics=['accuracy'])"
   ]
  },
  {
   "cell_type": "markdown",
   "metadata": {},
   "source": [
    "#### Parse image and labels into lists:\n",
    "The bitwise operator (~ tilde) can be used to invert the image. It is a complement operator. It takes one bit operand and returns its complement. If the operand is 1, it returns 0, and if it is 0, it returns 1.\n",
    "\n",
    "However I have left the image as is I.e black background with white digets, as from testing it makes prediction more accurate and the training accuracy is slighly higher.\n",
    "\n",
    "Reshape each of the 60000 images into an array list of 28 x 28 bytes (pixels). Also reshape labels."
   ]
  },
  {
   "cell_type": "code",
   "execution_count": 14,
   "metadata": {},
   "outputs": [],
   "source": [
    "train_imgs = np.array(list(train_imgs[:])).reshape(60000, 28, 28).astype(np.uint8) / 255.0\n",
    "train_lbls = np.array(list(train_lbls[:])).astype(np.uint8)\n",
    "inputs = train_imgs.reshape(60000, 784)"
   ]
  },
  {
   "cell_type": "markdown",
   "metadata": {},
   "source": [
    "### Preprocessing the dataset:\n",
    "From watching the videos on Moodle relating to fine tuning models with scaling and Principal component analysis (PCA). I thought I would try it out myself to see the results, however from testing I have decided to not modify the data as it provides less accurate results unfortunately which is documented below.\n",
    "\n",
    "Preprocessing is done as sometimes a value that has a variance which is substantially larger than others. This large value will dominate others making the neural network harder to learn from, as it might miss some of the less significant values."
   ]
  },
  {
   "cell_type": "markdown",
   "metadata": {},
   "source": [
    "#### Scaling the data:\n",
    "Scaling the data involves standardizing the values. In each column the average for the column is taken away from each value and then divided by the standard deviation. The overall standard deviation should be 1, and the mean should be 0.\n",
    "\n",
    "Code adapted from: https://scikit-learn.org/stable/modules/preprocessing.html#preprocessing"
   ]
  },
  {
   "cell_type": "code",
   "execution_count": 15,
   "metadata": {},
   "outputs": [],
   "source": [
    "# Scale inputs \n",
    "inputs_scaled = pre.scale(inputs)\n",
    "\n",
    "# Get mean and std deviation which should be around 0 and 1\n",
    "#pd.DataFrame(inputs_scaled.mean(axis=0))\n",
    "#pd.DataFrame(inputs_scaled.std(axis=0))"
   ]
  },
  {
   "cell_type": "code",
   "execution_count": 16,
   "metadata": {},
   "outputs": [
    {
     "data": {
      "text/html": [
       "<div>\n",
       "<style scoped>\n",
       "    .dataframe tbody tr th:only-of-type {\n",
       "        vertical-align: middle;\n",
       "    }\n",
       "\n",
       "    .dataframe tbody tr th {\n",
       "        vertical-align: top;\n",
       "    }\n",
       "\n",
       "    .dataframe thead th {\n",
       "        text-align: right;\n",
       "    }\n",
       "</style>\n",
       "<table border=\"1\" class=\"dataframe\">\n",
       "  <thead>\n",
       "    <tr style=\"text-align: right;\">\n",
       "      <th></th>\n",
       "      <th>0</th>\n",
       "      <th>1</th>\n",
       "      <th>2</th>\n",
       "      <th>3</th>\n",
       "      <th>4</th>\n",
       "      <th>5</th>\n",
       "      <th>6</th>\n",
       "      <th>7</th>\n",
       "      <th>8</th>\n",
       "      <th>9</th>\n",
       "      <th>...</th>\n",
       "      <th>774</th>\n",
       "      <th>775</th>\n",
       "      <th>776</th>\n",
       "      <th>777</th>\n",
       "      <th>778</th>\n",
       "      <th>779</th>\n",
       "      <th>780</th>\n",
       "      <th>781</th>\n",
       "      <th>782</th>\n",
       "      <th>783</th>\n",
       "    </tr>\n",
       "  </thead>\n",
       "  <tbody>\n",
       "    <tr>\n",
       "      <td>0</td>\n",
       "      <td>0.0</td>\n",
       "      <td>0.0</td>\n",
       "      <td>0.0</td>\n",
       "      <td>0.0</td>\n",
       "      <td>0.0</td>\n",
       "      <td>0.0</td>\n",
       "      <td>0.0</td>\n",
       "      <td>0.0</td>\n",
       "      <td>0.0</td>\n",
       "      <td>0.0</td>\n",
       "      <td>...</td>\n",
       "      <td>-0.033171</td>\n",
       "      <td>-0.022463</td>\n",
       "      <td>-0.016069</td>\n",
       "      <td>-0.011432</td>\n",
       "      <td>-0.009007</td>\n",
       "      <td>-0.00577</td>\n",
       "      <td>0.0</td>\n",
       "      <td>0.0</td>\n",
       "      <td>0.0</td>\n",
       "      <td>0.0</td>\n",
       "    </tr>\n",
       "    <tr>\n",
       "      <td>1</td>\n",
       "      <td>0.0</td>\n",
       "      <td>0.0</td>\n",
       "      <td>0.0</td>\n",
       "      <td>0.0</td>\n",
       "      <td>0.0</td>\n",
       "      <td>0.0</td>\n",
       "      <td>0.0</td>\n",
       "      <td>0.0</td>\n",
       "      <td>0.0</td>\n",
       "      <td>0.0</td>\n",
       "      <td>...</td>\n",
       "      <td>-0.033171</td>\n",
       "      <td>-0.022463</td>\n",
       "      <td>-0.016069</td>\n",
       "      <td>-0.011432</td>\n",
       "      <td>-0.009007</td>\n",
       "      <td>-0.00577</td>\n",
       "      <td>0.0</td>\n",
       "      <td>0.0</td>\n",
       "      <td>0.0</td>\n",
       "      <td>0.0</td>\n",
       "    </tr>\n",
       "    <tr>\n",
       "      <td>2</td>\n",
       "      <td>0.0</td>\n",
       "      <td>0.0</td>\n",
       "      <td>0.0</td>\n",
       "      <td>0.0</td>\n",
       "      <td>0.0</td>\n",
       "      <td>0.0</td>\n",
       "      <td>0.0</td>\n",
       "      <td>0.0</td>\n",
       "      <td>0.0</td>\n",
       "      <td>0.0</td>\n",
       "      <td>...</td>\n",
       "      <td>-0.033171</td>\n",
       "      <td>-0.022463</td>\n",
       "      <td>-0.016069</td>\n",
       "      <td>-0.011432</td>\n",
       "      <td>-0.009007</td>\n",
       "      <td>-0.00577</td>\n",
       "      <td>0.0</td>\n",
       "      <td>0.0</td>\n",
       "      <td>0.0</td>\n",
       "      <td>0.0</td>\n",
       "    </tr>\n",
       "    <tr>\n",
       "      <td>3</td>\n",
       "      <td>0.0</td>\n",
       "      <td>0.0</td>\n",
       "      <td>0.0</td>\n",
       "      <td>0.0</td>\n",
       "      <td>0.0</td>\n",
       "      <td>0.0</td>\n",
       "      <td>0.0</td>\n",
       "      <td>0.0</td>\n",
       "      <td>0.0</td>\n",
       "      <td>0.0</td>\n",
       "      <td>...</td>\n",
       "      <td>-0.033171</td>\n",
       "      <td>-0.022463</td>\n",
       "      <td>-0.016069</td>\n",
       "      <td>-0.011432</td>\n",
       "      <td>-0.009007</td>\n",
       "      <td>-0.00577</td>\n",
       "      <td>0.0</td>\n",
       "      <td>0.0</td>\n",
       "      <td>0.0</td>\n",
       "      <td>0.0</td>\n",
       "    </tr>\n",
       "    <tr>\n",
       "      <td>4</td>\n",
       "      <td>0.0</td>\n",
       "      <td>0.0</td>\n",
       "      <td>0.0</td>\n",
       "      <td>0.0</td>\n",
       "      <td>0.0</td>\n",
       "      <td>0.0</td>\n",
       "      <td>0.0</td>\n",
       "      <td>0.0</td>\n",
       "      <td>0.0</td>\n",
       "      <td>0.0</td>\n",
       "      <td>...</td>\n",
       "      <td>-0.033171</td>\n",
       "      <td>-0.022463</td>\n",
       "      <td>-0.016069</td>\n",
       "      <td>-0.011432</td>\n",
       "      <td>-0.009007</td>\n",
       "      <td>-0.00577</td>\n",
       "      <td>0.0</td>\n",
       "      <td>0.0</td>\n",
       "      <td>0.0</td>\n",
       "      <td>0.0</td>\n",
       "    </tr>\n",
       "    <tr>\n",
       "      <td>...</td>\n",
       "      <td>...</td>\n",
       "      <td>...</td>\n",
       "      <td>...</td>\n",
       "      <td>...</td>\n",
       "      <td>...</td>\n",
       "      <td>...</td>\n",
       "      <td>...</td>\n",
       "      <td>...</td>\n",
       "      <td>...</td>\n",
       "      <td>...</td>\n",
       "      <td>...</td>\n",
       "      <td>...</td>\n",
       "      <td>...</td>\n",
       "      <td>...</td>\n",
       "      <td>...</td>\n",
       "      <td>...</td>\n",
       "      <td>...</td>\n",
       "      <td>...</td>\n",
       "      <td>...</td>\n",
       "      <td>...</td>\n",
       "      <td>...</td>\n",
       "    </tr>\n",
       "    <tr>\n",
       "      <td>59995</td>\n",
       "      <td>0.0</td>\n",
       "      <td>0.0</td>\n",
       "      <td>0.0</td>\n",
       "      <td>0.0</td>\n",
       "      <td>0.0</td>\n",
       "      <td>0.0</td>\n",
       "      <td>0.0</td>\n",
       "      <td>0.0</td>\n",
       "      <td>0.0</td>\n",
       "      <td>0.0</td>\n",
       "      <td>...</td>\n",
       "      <td>-0.033171</td>\n",
       "      <td>-0.022463</td>\n",
       "      <td>-0.016069</td>\n",
       "      <td>-0.011432</td>\n",
       "      <td>-0.009007</td>\n",
       "      <td>-0.00577</td>\n",
       "      <td>0.0</td>\n",
       "      <td>0.0</td>\n",
       "      <td>0.0</td>\n",
       "      <td>0.0</td>\n",
       "    </tr>\n",
       "    <tr>\n",
       "      <td>59996</td>\n",
       "      <td>0.0</td>\n",
       "      <td>0.0</td>\n",
       "      <td>0.0</td>\n",
       "      <td>0.0</td>\n",
       "      <td>0.0</td>\n",
       "      <td>0.0</td>\n",
       "      <td>0.0</td>\n",
       "      <td>0.0</td>\n",
       "      <td>0.0</td>\n",
       "      <td>0.0</td>\n",
       "      <td>...</td>\n",
       "      <td>-0.033171</td>\n",
       "      <td>-0.022463</td>\n",
       "      <td>-0.016069</td>\n",
       "      <td>-0.011432</td>\n",
       "      <td>-0.009007</td>\n",
       "      <td>-0.00577</td>\n",
       "      <td>0.0</td>\n",
       "      <td>0.0</td>\n",
       "      <td>0.0</td>\n",
       "      <td>0.0</td>\n",
       "    </tr>\n",
       "    <tr>\n",
       "      <td>59997</td>\n",
       "      <td>0.0</td>\n",
       "      <td>0.0</td>\n",
       "      <td>0.0</td>\n",
       "      <td>0.0</td>\n",
       "      <td>0.0</td>\n",
       "      <td>0.0</td>\n",
       "      <td>0.0</td>\n",
       "      <td>0.0</td>\n",
       "      <td>0.0</td>\n",
       "      <td>0.0</td>\n",
       "      <td>...</td>\n",
       "      <td>-0.033171</td>\n",
       "      <td>-0.022463</td>\n",
       "      <td>-0.016069</td>\n",
       "      <td>-0.011432</td>\n",
       "      <td>-0.009007</td>\n",
       "      <td>-0.00577</td>\n",
       "      <td>0.0</td>\n",
       "      <td>0.0</td>\n",
       "      <td>0.0</td>\n",
       "      <td>0.0</td>\n",
       "    </tr>\n",
       "    <tr>\n",
       "      <td>59998</td>\n",
       "      <td>0.0</td>\n",
       "      <td>0.0</td>\n",
       "      <td>0.0</td>\n",
       "      <td>0.0</td>\n",
       "      <td>0.0</td>\n",
       "      <td>0.0</td>\n",
       "      <td>0.0</td>\n",
       "      <td>0.0</td>\n",
       "      <td>0.0</td>\n",
       "      <td>0.0</td>\n",
       "      <td>...</td>\n",
       "      <td>-0.033171</td>\n",
       "      <td>-0.022463</td>\n",
       "      <td>-0.016069</td>\n",
       "      <td>-0.011432</td>\n",
       "      <td>-0.009007</td>\n",
       "      <td>-0.00577</td>\n",
       "      <td>0.0</td>\n",
       "      <td>0.0</td>\n",
       "      <td>0.0</td>\n",
       "      <td>0.0</td>\n",
       "    </tr>\n",
       "    <tr>\n",
       "      <td>59999</td>\n",
       "      <td>0.0</td>\n",
       "      <td>0.0</td>\n",
       "      <td>0.0</td>\n",
       "      <td>0.0</td>\n",
       "      <td>0.0</td>\n",
       "      <td>0.0</td>\n",
       "      <td>0.0</td>\n",
       "      <td>0.0</td>\n",
       "      <td>0.0</td>\n",
       "      <td>0.0</td>\n",
       "      <td>...</td>\n",
       "      <td>-0.033171</td>\n",
       "      <td>-0.022463</td>\n",
       "      <td>-0.016069</td>\n",
       "      <td>-0.011432</td>\n",
       "      <td>-0.009007</td>\n",
       "      <td>-0.00577</td>\n",
       "      <td>0.0</td>\n",
       "      <td>0.0</td>\n",
       "      <td>0.0</td>\n",
       "      <td>0.0</td>\n",
       "    </tr>\n",
       "  </tbody>\n",
       "</table>\n",
       "<p>60000 rows × 784 columns</p>\n",
       "</div>"
      ],
      "text/plain": [
       "       0    1    2    3    4    5    6    7    8    9    ...       774  \\\n",
       "0      0.0  0.0  0.0  0.0  0.0  0.0  0.0  0.0  0.0  0.0  ... -0.033171   \n",
       "1      0.0  0.0  0.0  0.0  0.0  0.0  0.0  0.0  0.0  0.0  ... -0.033171   \n",
       "2      0.0  0.0  0.0  0.0  0.0  0.0  0.0  0.0  0.0  0.0  ... -0.033171   \n",
       "3      0.0  0.0  0.0  0.0  0.0  0.0  0.0  0.0  0.0  0.0  ... -0.033171   \n",
       "4      0.0  0.0  0.0  0.0  0.0  0.0  0.0  0.0  0.0  0.0  ... -0.033171   \n",
       "...    ...  ...  ...  ...  ...  ...  ...  ...  ...  ...  ...       ...   \n",
       "59995  0.0  0.0  0.0  0.0  0.0  0.0  0.0  0.0  0.0  0.0  ... -0.033171   \n",
       "59996  0.0  0.0  0.0  0.0  0.0  0.0  0.0  0.0  0.0  0.0  ... -0.033171   \n",
       "59997  0.0  0.0  0.0  0.0  0.0  0.0  0.0  0.0  0.0  0.0  ... -0.033171   \n",
       "59998  0.0  0.0  0.0  0.0  0.0  0.0  0.0  0.0  0.0  0.0  ... -0.033171   \n",
       "59999  0.0  0.0  0.0  0.0  0.0  0.0  0.0  0.0  0.0  0.0  ... -0.033171   \n",
       "\n",
       "            775       776       777       778      779  780  781  782  783  \n",
       "0     -0.022463 -0.016069 -0.011432 -0.009007 -0.00577  0.0  0.0  0.0  0.0  \n",
       "1     -0.022463 -0.016069 -0.011432 -0.009007 -0.00577  0.0  0.0  0.0  0.0  \n",
       "2     -0.022463 -0.016069 -0.011432 -0.009007 -0.00577  0.0  0.0  0.0  0.0  \n",
       "3     -0.022463 -0.016069 -0.011432 -0.009007 -0.00577  0.0  0.0  0.0  0.0  \n",
       "4     -0.022463 -0.016069 -0.011432 -0.009007 -0.00577  0.0  0.0  0.0  0.0  \n",
       "...         ...       ...       ...       ...      ...  ...  ...  ...  ...  \n",
       "59995 -0.022463 -0.016069 -0.011432 -0.009007 -0.00577  0.0  0.0  0.0  0.0  \n",
       "59996 -0.022463 -0.016069 -0.011432 -0.009007 -0.00577  0.0  0.0  0.0  0.0  \n",
       "59997 -0.022463 -0.016069 -0.011432 -0.009007 -0.00577  0.0  0.0  0.0  0.0  \n",
       "59998 -0.022463 -0.016069 -0.011432 -0.009007 -0.00577  0.0  0.0  0.0  0.0  \n",
       "59999 -0.022463 -0.016069 -0.011432 -0.009007 -0.00577  0.0  0.0  0.0  0.0  \n",
       "\n",
       "[60000 rows x 784 columns]"
      ]
     },
     "execution_count": 16,
     "metadata": {},
     "output_type": "execute_result"
    }
   ],
   "source": [
    "# Display scaled array using Pandas\n",
    "pd.DataFrame(inputs_scaled)"
   ]
  },
  {
   "cell_type": "markdown",
   "metadata": {},
   "source": [
    "#### Principal component analysis (PCA) & Whitening:\n",
    "\n",
    "PCA involves transforming a number of correlated variables into a smaller uncorrelated variables which are called principal components.\n",
    "\n",
    "Whitening involves multiplying each component by the square root and then dividing by the singular values which ensures uncorrelated outputs. Whitening will remove some information from the inputs, but can sometimes improve results."
   ]
  },
  {
   "cell_type": "code",
   "execution_count": 17,
   "metadata": {},
   "outputs": [
    {
     "data": {
      "text/html": [
       "<div>\n",
       "<style scoped>\n",
       "    .dataframe tbody tr th:only-of-type {\n",
       "        vertical-align: middle;\n",
       "    }\n",
       "\n",
       "    .dataframe tbody tr th {\n",
       "        vertical-align: top;\n",
       "    }\n",
       "\n",
       "    .dataframe thead th {\n",
       "        text-align: right;\n",
       "    }\n",
       "</style>\n",
       "<table border=\"1\" class=\"dataframe\">\n",
       "  <thead>\n",
       "    <tr style=\"text-align: right;\">\n",
       "      <th></th>\n",
       "      <th>0</th>\n",
       "      <th>1</th>\n",
       "      <th>2</th>\n",
       "      <th>3</th>\n",
       "      <th>4</th>\n",
       "      <th>5</th>\n",
       "      <th>6</th>\n",
       "      <th>7</th>\n",
       "      <th>8</th>\n",
       "      <th>9</th>\n",
       "      <th>...</th>\n",
       "      <th>774</th>\n",
       "      <th>775</th>\n",
       "      <th>776</th>\n",
       "      <th>777</th>\n",
       "      <th>778</th>\n",
       "      <th>779</th>\n",
       "      <th>780</th>\n",
       "      <th>781</th>\n",
       "      <th>782</th>\n",
       "      <th>783</th>\n",
       "    </tr>\n",
       "  </thead>\n",
       "  <tbody>\n",
       "    <tr>\n",
       "      <td>0</td>\n",
       "      <td>0.214854</td>\n",
       "      <td>-0.633921</td>\n",
       "      <td>-0.053303</td>\n",
       "      <td>-1.292893</td>\n",
       "      <td>-0.066811</td>\n",
       "      <td>-0.604610</td>\n",
       "      <td>0.698640</td>\n",
       "      <td>0.508199</td>\n",
       "      <td>-1.181288</td>\n",
       "      <td>0.698025</td>\n",
       "      <td>...</td>\n",
       "      <td>1.934448e-15</td>\n",
       "      <td>0.0</td>\n",
       "      <td>0.0</td>\n",
       "      <td>0.0</td>\n",
       "      <td>0.0</td>\n",
       "      <td>-4.321313</td>\n",
       "      <td>14.340837</td>\n",
       "      <td>18.642379</td>\n",
       "      <td>0.349014</td>\n",
       "      <td>-3.397805</td>\n",
       "    </tr>\n",
       "    <tr>\n",
       "      <td>1</td>\n",
       "      <td>1.753950</td>\n",
       "      <td>-0.597798</td>\n",
       "      <td>1.296674</td>\n",
       "      <td>-1.071908</td>\n",
       "      <td>-2.024822</td>\n",
       "      <td>-0.473206</td>\n",
       "      <td>-0.134418</td>\n",
       "      <td>-0.333827</td>\n",
       "      <td>0.131477</td>\n",
       "      <td>0.531074</td>\n",
       "      <td>...</td>\n",
       "      <td>1.749181e-06</td>\n",
       "      <td>0.0</td>\n",
       "      <td>0.0</td>\n",
       "      <td>0.0</td>\n",
       "      <td>0.0</td>\n",
       "      <td>-0.037058</td>\n",
       "      <td>1.255922</td>\n",
       "      <td>6.270980</td>\n",
       "      <td>-4.164999</td>\n",
       "      <td>17.605331</td>\n",
       "    </tr>\n",
       "    <tr>\n",
       "      <td>2</td>\n",
       "      <td>-0.089888</td>\n",
       "      <td>0.795099</td>\n",
       "      <td>-0.409894</td>\n",
       "      <td>1.212060</td>\n",
       "      <td>-0.750626</td>\n",
       "      <td>-0.004773</td>\n",
       "      <td>-2.564855</td>\n",
       "      <td>1.172206</td>\n",
       "      <td>-0.372232</td>\n",
       "      <td>-0.627951</td>\n",
       "      <td>...</td>\n",
       "      <td>3.424522e-05</td>\n",
       "      <td>0.0</td>\n",
       "      <td>0.0</td>\n",
       "      <td>0.0</td>\n",
       "      <td>0.0</td>\n",
       "      <td>-0.018421</td>\n",
       "      <td>-10.340331</td>\n",
       "      <td>-8.907293</td>\n",
       "      <td>13.307287</td>\n",
       "      <td>5.379773</td>\n",
       "    </tr>\n",
       "    <tr>\n",
       "      <td>3</td>\n",
       "      <td>-1.385394</td>\n",
       "      <td>-1.231043</td>\n",
       "      <td>0.595024</td>\n",
       "      <td>0.246311</td>\n",
       "      <td>-0.004536</td>\n",
       "      <td>1.819619</td>\n",
       "      <td>-1.414364</td>\n",
       "      <td>-0.214098</td>\n",
       "      <td>0.983764</td>\n",
       "      <td>0.039087</td>\n",
       "      <td>...</td>\n",
       "      <td>1.606204e-06</td>\n",
       "      <td>0.0</td>\n",
       "      <td>0.0</td>\n",
       "      <td>0.0</td>\n",
       "      <td>0.0</td>\n",
       "      <td>0.044644</td>\n",
       "      <td>-3.454146</td>\n",
       "      <td>4.230403</td>\n",
       "      <td>6.892552</td>\n",
       "      <td>-4.518633</td>\n",
       "    </tr>\n",
       "    <tr>\n",
       "      <td>4</td>\n",
       "      <td>-0.663557</td>\n",
       "      <td>1.481116</td>\n",
       "      <td>0.035559</td>\n",
       "      <td>-0.562275</td>\n",
       "      <td>0.240258</td>\n",
       "      <td>0.112429</td>\n",
       "      <td>-0.273689</td>\n",
       "      <td>-1.289756</td>\n",
       "      <td>0.732797</td>\n",
       "      <td>0.366243</td>\n",
       "      <td>...</td>\n",
       "      <td>-2.176150e-05</td>\n",
       "      <td>0.0</td>\n",
       "      <td>0.0</td>\n",
       "      <td>0.0</td>\n",
       "      <td>0.0</td>\n",
       "      <td>-0.024908</td>\n",
       "      <td>-1.391055</td>\n",
       "      <td>2.147943</td>\n",
       "      <td>3.802038</td>\n",
       "      <td>3.453613</td>\n",
       "    </tr>\n",
       "    <tr>\n",
       "      <td>...</td>\n",
       "      <td>...</td>\n",
       "      <td>...</td>\n",
       "      <td>...</td>\n",
       "      <td>...</td>\n",
       "      <td>...</td>\n",
       "      <td>...</td>\n",
       "      <td>...</td>\n",
       "      <td>...</td>\n",
       "      <td>...</td>\n",
       "      <td>...</td>\n",
       "      <td>...</td>\n",
       "      <td>...</td>\n",
       "      <td>...</td>\n",
       "      <td>...</td>\n",
       "      <td>...</td>\n",
       "      <td>...</td>\n",
       "      <td>...</td>\n",
       "      <td>...</td>\n",
       "      <td>...</td>\n",
       "      <td>...</td>\n",
       "      <td>...</td>\n",
       "    </tr>\n",
       "    <tr>\n",
       "      <td>59995</td>\n",
       "      <td>-0.172708</td>\n",
       "      <td>-0.594998</td>\n",
       "      <td>0.295587</td>\n",
       "      <td>-0.807536</td>\n",
       "      <td>0.744740</td>\n",
       "      <td>0.616359</td>\n",
       "      <td>-1.488535</td>\n",
       "      <td>-0.755669</td>\n",
       "      <td>-1.608234</td>\n",
       "      <td>1.126865</td>\n",
       "      <td>...</td>\n",
       "      <td>-5.141710e-06</td>\n",
       "      <td>0.0</td>\n",
       "      <td>0.0</td>\n",
       "      <td>0.0</td>\n",
       "      <td>0.0</td>\n",
       "      <td>-0.241807</td>\n",
       "      <td>0.935214</td>\n",
       "      <td>-1.893164</td>\n",
       "      <td>-10.826239</td>\n",
       "      <td>9.247554</td>\n",
       "    </tr>\n",
       "    <tr>\n",
       "      <td>59996</td>\n",
       "      <td>0.264826</td>\n",
       "      <td>-1.394660</td>\n",
       "      <td>-0.193374</td>\n",
       "      <td>-1.512166</td>\n",
       "      <td>0.485618</td>\n",
       "      <td>0.480543</td>\n",
       "      <td>-1.454452</td>\n",
       "      <td>1.607075</td>\n",
       "      <td>-2.173570</td>\n",
       "      <td>0.095414</td>\n",
       "      <td>...</td>\n",
       "      <td>-7.413602e-06</td>\n",
       "      <td>0.0</td>\n",
       "      <td>0.0</td>\n",
       "      <td>0.0</td>\n",
       "      <td>0.0</td>\n",
       "      <td>0.104544</td>\n",
       "      <td>1.074031</td>\n",
       "      <td>-0.910176</td>\n",
       "      <td>4.538898</td>\n",
       "      <td>4.995267</td>\n",
       "    </tr>\n",
       "    <tr>\n",
       "      <td>59997</td>\n",
       "      <td>-0.308680</td>\n",
       "      <td>0.324545</td>\n",
       "      <td>-0.560151</td>\n",
       "      <td>-1.662534</td>\n",
       "      <td>-0.514763</td>\n",
       "      <td>-1.202745</td>\n",
       "      <td>-1.386961</td>\n",
       "      <td>-0.587777</td>\n",
       "      <td>-0.284422</td>\n",
       "      <td>0.943168</td>\n",
       "      <td>...</td>\n",
       "      <td>-1.211944e-07</td>\n",
       "      <td>0.0</td>\n",
       "      <td>0.0</td>\n",
       "      <td>0.0</td>\n",
       "      <td>0.0</td>\n",
       "      <td>-0.261956</td>\n",
       "      <td>3.507706</td>\n",
       "      <td>1.078574</td>\n",
       "      <td>1.789468</td>\n",
       "      <td>17.024285</td>\n",
       "    </tr>\n",
       "    <tr>\n",
       "      <td>59998</td>\n",
       "      <td>0.226423</td>\n",
       "      <td>-0.011337</td>\n",
       "      <td>1.117329</td>\n",
       "      <td>0.797252</td>\n",
       "      <td>-1.275595</td>\n",
       "      <td>-1.405840</td>\n",
       "      <td>-0.320593</td>\n",
       "      <td>0.447549</td>\n",
       "      <td>-0.053605</td>\n",
       "      <td>-0.330114</td>\n",
       "      <td>...</td>\n",
       "      <td>-7.671874e-06</td>\n",
       "      <td>0.0</td>\n",
       "      <td>0.0</td>\n",
       "      <td>0.0</td>\n",
       "      <td>0.0</td>\n",
       "      <td>0.029328</td>\n",
       "      <td>-9.675645</td>\n",
       "      <td>2.207996</td>\n",
       "      <td>4.522283</td>\n",
       "      <td>-5.258369</td>\n",
       "    </tr>\n",
       "    <tr>\n",
       "      <td>59999</td>\n",
       "      <td>-0.300675</td>\n",
       "      <td>-0.050115</td>\n",
       "      <td>1.209001</td>\n",
       "      <td>-0.281168</td>\n",
       "      <td>-0.484622</td>\n",
       "      <td>0.606041</td>\n",
       "      <td>-1.377720</td>\n",
       "      <td>-0.491203</td>\n",
       "      <td>0.283704</td>\n",
       "      <td>-0.424876</td>\n",
       "      <td>...</td>\n",
       "      <td>8.226771e-08</td>\n",
       "      <td>0.0</td>\n",
       "      <td>0.0</td>\n",
       "      <td>0.0</td>\n",
       "      <td>0.0</td>\n",
       "      <td>-0.000711</td>\n",
       "      <td>1.698774</td>\n",
       "      <td>6.259551</td>\n",
       "      <td>-1.136778</td>\n",
       "      <td>-4.207936</td>\n",
       "    </tr>\n",
       "  </tbody>\n",
       "</table>\n",
       "<p>60000 rows × 784 columns</p>\n",
       "</div>"
      ],
      "text/plain": [
       "            0         1         2         3         4         5         6    \\\n",
       "0      0.214854 -0.633921 -0.053303 -1.292893 -0.066811 -0.604610  0.698640   \n",
       "1      1.753950 -0.597798  1.296674 -1.071908 -2.024822 -0.473206 -0.134418   \n",
       "2     -0.089888  0.795099 -0.409894  1.212060 -0.750626 -0.004773 -2.564855   \n",
       "3     -1.385394 -1.231043  0.595024  0.246311 -0.004536  1.819619 -1.414364   \n",
       "4     -0.663557  1.481116  0.035559 -0.562275  0.240258  0.112429 -0.273689   \n",
       "...         ...       ...       ...       ...       ...       ...       ...   \n",
       "59995 -0.172708 -0.594998  0.295587 -0.807536  0.744740  0.616359 -1.488535   \n",
       "59996  0.264826 -1.394660 -0.193374 -1.512166  0.485618  0.480543 -1.454452   \n",
       "59997 -0.308680  0.324545 -0.560151 -1.662534 -0.514763 -1.202745 -1.386961   \n",
       "59998  0.226423 -0.011337  1.117329  0.797252 -1.275595 -1.405840 -0.320593   \n",
       "59999 -0.300675 -0.050115  1.209001 -0.281168 -0.484622  0.606041 -1.377720   \n",
       "\n",
       "            7         8         9    ...           774  775  776  777  778  \\\n",
       "0      0.508199 -1.181288  0.698025  ...  1.934448e-15  0.0  0.0  0.0  0.0   \n",
       "1     -0.333827  0.131477  0.531074  ...  1.749181e-06  0.0  0.0  0.0  0.0   \n",
       "2      1.172206 -0.372232 -0.627951  ...  3.424522e-05  0.0  0.0  0.0  0.0   \n",
       "3     -0.214098  0.983764  0.039087  ...  1.606204e-06  0.0  0.0  0.0  0.0   \n",
       "4     -1.289756  0.732797  0.366243  ... -2.176150e-05  0.0  0.0  0.0  0.0   \n",
       "...         ...       ...       ...  ...           ...  ...  ...  ...  ...   \n",
       "59995 -0.755669 -1.608234  1.126865  ... -5.141710e-06  0.0  0.0  0.0  0.0   \n",
       "59996  1.607075 -2.173570  0.095414  ... -7.413602e-06  0.0  0.0  0.0  0.0   \n",
       "59997 -0.587777 -0.284422  0.943168  ... -1.211944e-07  0.0  0.0  0.0  0.0   \n",
       "59998  0.447549 -0.053605 -0.330114  ... -7.671874e-06  0.0  0.0  0.0  0.0   \n",
       "59999 -0.491203  0.283704 -0.424876  ...  8.226771e-08  0.0  0.0  0.0  0.0   \n",
       "\n",
       "            779        780        781        782        783  \n",
       "0     -4.321313  14.340837  18.642379   0.349014  -3.397805  \n",
       "1     -0.037058   1.255922   6.270980  -4.164999  17.605331  \n",
       "2     -0.018421 -10.340331  -8.907293  13.307287   5.379773  \n",
       "3      0.044644  -3.454146   4.230403   6.892552  -4.518633  \n",
       "4     -0.024908  -1.391055   2.147943   3.802038   3.453613  \n",
       "...         ...        ...        ...        ...        ...  \n",
       "59995 -0.241807   0.935214  -1.893164 -10.826239   9.247554  \n",
       "59996  0.104544   1.074031  -0.910176   4.538898   4.995267  \n",
       "59997 -0.261956   3.507706   1.078574   1.789468  17.024285  \n",
       "59998  0.029328  -9.675645   2.207996   4.522283  -5.258369  \n",
       "59999 -0.000711   1.698774   6.259551  -1.136778  -4.207936  \n",
       "\n",
       "[60000 rows x 784 columns]"
      ]
     },
     "execution_count": 17,
     "metadata": {},
     "output_type": "execute_result"
    }
   ],
   "source": [
    "# Whiten using sklearn.decomposition\n",
    "pca = dec.PCA(whiten=True)\n",
    "pca.fit(inputs)\n",
    "\n",
    "# Covert to pandas dataframe and display.\n",
    "inputs_white = pd.DataFrame(pca.transform(inputs))\n",
    "inputs_white"
   ]
  },
  {
   "cell_type": "markdown",
   "metadata": {},
   "source": [
    "#### Results of Preprocessing image data:\n",
    "**Scaling** - Training accuracy was quite high with a 97% accuracy but correct results only deemed 907 correct results out of 10000.\n",
    "\n",
    "**PCA & Whitening** - Training accuracy was again quite high with a slighly higher accuracy of 98%. However once again the correct results only deemed 1204 correct results out of 10000, which is far too low.\n",
    "\n",
    "**Conclusion** - From testing both methods multiple times the results didn't change much, so maybe too much information is being changed to give accurate results. When nothing is done to the dataset it gets on average 9700 correct which is what I will use. However it was a good learning experience."
   ]
  },
  {
   "cell_type": "markdown",
   "metadata": {},
   "source": [
    "### Encode labels:\n",
    "Encode into binary using sklearn, so they can be compared easily.\n",
    "E.g 0 = [1, 0, 0, 0, 0, 0, 0, 0, 0, 0], 1 = [0, 1, 0, 0, 0, 0, 0, 0, 0, 0] etc."
   ]
  },
  {
   "cell_type": "code",
   "execution_count": 18,
   "metadata": {},
   "outputs": [],
   "source": [
    "encoder = pre.LabelBinarizer()\n",
    "encoder.fit(train_lbls)\n",
    "outputs = encoder.transform(train_lbls)"
   ]
  },
  {
   "cell_type": "code",
   "execution_count": 19,
   "metadata": {},
   "outputs": [
    {
     "data": {
      "text/plain": [
       "(5, array([0, 0, 0, 0, 0, 1, 0, 0, 0, 0]))"
      ]
     },
     "execution_count": 19,
     "metadata": {},
     "output_type": "execute_result"
    }
   ],
   "source": [
    "train_lbls[0], outputs[0]"
   ]
  },
  {
   "cell_type": "markdown",
   "metadata": {},
   "source": [
    "#### Print out binary value for each number 0-9. \n",
    "As you can see each value from 0-9, with the 1 being the correct number index."
   ]
  },
  {
   "cell_type": "code",
   "execution_count": 20,
   "metadata": {},
   "outputs": [
    {
     "name": "stdout",
     "output_type": "stream",
     "text": [
      "0 [[1 0 0 0 0 0 0 0 0 0]]\n",
      "1 [[0 1 0 0 0 0 0 0 0 0]]\n",
      "2 [[0 0 1 0 0 0 0 0 0 0]]\n",
      "3 [[0 0 0 1 0 0 0 0 0 0]]\n",
      "4 [[0 0 0 0 1 0 0 0 0 0]]\n",
      "5 [[0 0 0 0 0 1 0 0 0 0]]\n",
      "6 [[0 0 0 0 0 0 1 0 0 0]]\n",
      "7 [[0 0 0 0 0 0 0 1 0 0]]\n",
      "8 [[0 0 0 0 0 0 0 0 1 0]]\n",
      "9 [[0 0 0 0 0 0 0 0 0 1]]\n"
     ]
    }
   ],
   "source": [
    "for i in range(10):\n",
    "    print(i, encoder.transform([i]))"
   ]
  },
  {
   "cell_type": "markdown",
   "metadata": {},
   "source": [
    "### Run and save the Model\n",
    "Rather than retraining the model again and again I wanted to be able to save and load it, so I researched and found a way to achieve this, by saving a binary .h5 model file. This could then be loaded into the web application for quick prediction.\n",
    "\n",
    "Code adapted from: https://keras.io/getting-started/faq/#how-can-i-save-a-keras-model\n",
    "\n",
    "**One Epoch** - Is when an entire dataset is passed forward and backward through the neural network only once.\n",
    "I have decided to train the model using 10 epochs, which from testing it seems to peak at. This can be seen in the graph below."
   ]
  },
  {
   "cell_type": "code",
   "execution_count": 21,
   "metadata": {},
   "outputs": [
    {
     "name": "stdout",
     "output_type": "stream",
     "text": [
      "WARNING:tensorflow:From C:\\Users\\Matthew\\Anaconda3\\lib\\site-packages\\tensorflow\\python\\ops\\math_grad.py:1250: add_dispatch_support.<locals>.wrapper (from tensorflow.python.ops.array_ops) is deprecated and will be removed in a future version.\n",
      "Instructions for updating:\n",
      "Use tf.where in 2.0, which has the same broadcast rule as np.where\n",
      "WARNING:tensorflow:From C:\\Users\\Matthew\\Anaconda3\\lib\\site-packages\\keras\\backend\\tensorflow_backend.py:986: The name tf.assign_add is deprecated. Please use tf.compat.v1.assign_add instead.\n",
      "\n",
      "Epoch 1/10\n",
      " - 5s - loss: 0.2436 - acc: 0.9277\n",
      "Epoch 2/10\n",
      " - 4s - loss: 0.0998 - acc: 0.9698\n",
      "Epoch 3/10\n",
      " - 4s - loss: 0.0685 - acc: 0.9783\n",
      "Epoch 4/10\n",
      " - 4s - loss: 0.0544 - acc: 0.9826\n",
      "Epoch 5/10\n",
      " - 4s - loss: 0.0478 - acc: 0.9843\n",
      "Epoch 6/10\n",
      " - 4s - loss: 0.0376 - acc: 0.9877\n",
      "Epoch 7/10\n",
      " - 4s - loss: 0.0342 - acc: 0.9889\n",
      "Epoch 8/10\n",
      " - 4s - loss: 0.0301 - acc: 0.9898\n",
      "Epoch 9/10\n",
      " - 4s - loss: 0.0309 - acc: 0.9896\n",
      "Epoch 10/10\n",
      " - 4s - loss: 0.0234 - acc: 0.9921\n"
     ]
    }
   ],
   "source": [
    "model_log = model.fit(inputs, outputs, verbose=2, epochs=10, batch_size=200)\n",
    "model.save('trained_model.h5')"
   ]
  },
  {
   "cell_type": "markdown",
   "metadata": {},
   "source": [
    "#### Display accuracy and loss results on a graph\n",
    "Code adapted from: https://towardsdatascience.com/a-simple-2d-cnn-for-mnist-digit-recognition-a998dbc1e79a"
   ]
  },
  {
   "cell_type": "code",
   "execution_count": 22,
   "metadata": {},
   "outputs": [
    {
     "data": {
      "image/png": "[encoded data removed]",
      "text/plain": [
       "<Figure size 432x288 with 2 Axes>"
      ]
     },
     "metadata": {
      "needs_background": "light"
     },
     "output_type": "display_data"
    }
   ],
   "source": [
    "# plotting the metrics for accuracy and loss.\n",
    "fig = plt.figure()\n",
    "plt.subplot(2,1,1)\n",
    "plt.plot(model_log.history['acc'])\n",
    "plt.title('model accuracy')\n",
    "plt.ylabel('accuracy')\n",
    "plt.xlabel('epoch')\n",
    "plt.legend(['train', 'test'], loc='lower right')\n",
    "plt.subplot(2,1,2)\n",
    "plt.plot(model_log.history['loss'])\n",
    "plt.title('model loss')\n",
    "plt.ylabel('loss')\n",
    "plt.xlabel('epoch')\n",
    "plt.legend(['train', 'test'], loc='upper right')\n",
    "plt.tight_layout()"
   ]
  },
  {
   "cell_type": "markdown",
   "metadata": {},
   "source": [
    "## Testing the trained model\n",
    "Parse images and labels into lists, and reshape like before. This time using the 10000 training images and labels."
   ]
  },
  {
   "cell_type": "code",
   "execution_count": 23,
   "metadata": {},
   "outputs": [],
   "source": [
    "test_imgs = np.array(list(test_imgs[:])).reshape(10000, 784).astype(np.uint8) / 255.0\n",
    "test_lbls = np.array(list(test_lbls[:])).astype(np.uint8)"
   ]
  },
  {
   "cell_type": "markdown",
   "metadata": {},
   "source": [
    "#### Get the sum of correct values \n",
    "Calculate the sum of correct results out of all 10000 images using the labels\n",
    "\n",
    "The last test returned a result of 9771, so it's about 97% of the time correct which correlates well with the accuracy results in the graph above."
   ]
  },
  {
   "cell_type": "code",
   "execution_count": 24,
   "metadata": {},
   "outputs": [
    {
     "name": "stdout",
     "output_type": "stream",
     "text": [
      "\n",
      "Sum of correct results: 9781\n"
     ]
    }
   ],
   "source": [
    "print(\"\\nSum of correct results:\", (encoder.inverse_transform(model.predict(test_imgs)) == test_lbls).sum())"
   ]
  },
  {
   "cell_type": "markdown",
   "metadata": {},
   "source": [
    "#### Predict image using model\n",
    "Pick an image from the test images, and call predict. ([11:12], is the number 6)"
   ]
  },
  {
   "cell_type": "code",
   "execution_count": 25,
   "metadata": {},
   "outputs": [
    {
     "name": "stdout",
     "output_type": "stream",
     "text": [
      "\n",
      "Test image: [[1.2635444e-08 2.0018479e-19 5.1486220e-15 1.6143477e-16 3.0222049e-13\n",
      "  2.2541767e-10 1.0000000e+00 2.2807827e-14 1.0179507e-08 3.1492902e-18]]\n"
     ]
    }
   ],
   "source": [
    "print(\"\\nTest image:\", model.predict(test_imgs[11:12]))"
   ]
  },
  {
   "cell_type": "markdown",
   "metadata": {},
   "source": [
    "From testing the model.predict it would return an array of possibilities. The highest value would be the right answer.\n",
    "To get the largest value I looked how to get the index of the highest value in a numpy array and found argmax() which does this nicely.\n",
    "\n",
    "Code adapted from: https://kite.com/python/examples/5750/numpy-find-the-index-of-the-largest-element-of-an-array"
   ]
  },
  {
   "cell_type": "code",
   "execution_count": 26,
   "metadata": {},
   "outputs": [
    {
     "name": "stdout",
     "output_type": "stream",
     "text": [
      "\n",
      "Results: 6\n"
     ]
    }
   ],
   "source": [
    "print(\"\\nResults:\", model.predict(test_imgs[11:12]).argmax())"
   ]
  },
  {
   "cell_type": "markdown",
   "metadata": {},
   "source": [
    "#### Display correct image \n",
    "If it's the same as the predicted above then the prediction is correct."
   ]
  },
  {
   "cell_type": "code",
   "execution_count": 27,
   "metadata": {},
   "outputs": [
    {
     "data": {
      "image/png": "[encoded data removed]",
      "text/plain": [
       "<Figure size 432x288 with 1 Axes>"
      ]
     },
     "metadata": {
      "needs_background": "light"
     },
     "output_type": "display_data"
    }
   ],
   "source": [
    "plt.imshow(test_imgs[11].reshape(28, 28), cmap='gray')\n",
    "plt.show()"
   ]
  }
 ],
 "metadata": {
  "kernelspec": {
   "display_name": "Python 3",
   "language": "python",
   "name": "python3"
  },
  "language_info": {
   "codemirror_mode": {
    "name": "ipython",
    "version": 3
   },
   "file_extension": ".py",
   "mimetype": "text/x-python",
   "name": "python",
   "nbconvert_exporter": "python",
   "pygments_lexer": "ipython3",
   "version": "3.7.4"
  }
 },
 "nbformat": 4,
 "nbformat_minor": 4
}
